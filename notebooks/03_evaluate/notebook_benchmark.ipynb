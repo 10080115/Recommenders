{
 "cells": [
  {
   "cell_type": "markdown",
   "metadata": {},
   "source": [
    "# Benchmarking Collaborative Filtering Recommendation Algorithms"
   ]
  },
  {
   "cell_type": "markdown",
   "metadata": {},
   "source": [
    "The benchmarking applies to collaborative filtering algorithms available in Microsoft/Recommenders repository like Spark ALS, Surprise SVD, Microsoft SAR, etc.\n",
    "\n",
    "## Experimentation setup:\n",
    "* Objective\n",
    "  * To compare how each collaborative filtering algorithm perform in predicting ratings and recommending relevant items.\n",
    "* Datasets\n",
    "  * Movielens 100K.\n",
    "  * Movielens 1M.\n",
    "  * Movielens 10M.\n",
    "  * Movielens 20M.\n",
    "* Data split\n",
    "  * The data is split into train and test sets.\n",
    "  * The split ratios are 75-25 for train and test datasets.\n",
    "  * The splitting is random. \n",
    "* Model training\n",
    "  * A recommendation model is trained by using each of the collaborative filtering algorithms. \n",
    "  * It is known that exhaustive search of the hyper parameter space is cubersome. Instead, empirical parameter values reported in the literature that generated optimal results are used.\n",
    "* Evaluation metrics\n",
    "  * Ranking metrics:\n",
    "    * Precision@k.\n",
    "    * Recall@k.\n",
    "    * Normalized discounted cumulative gain@k (NDCG@k).\n",
    "    * Mean-average-precision (MAP). \n",
    "    * In the evaluation metrics above, k = 10. \n",
    "  * Rating metrics:\n",
    "    * Root mean squared error (RMSE).\n",
    "    * Mean average error (MAE).\n",
    "    * R squared.\n",
    "    * Explained variance."
   ]
  },
  {
   "cell_type": "markdown",
   "metadata": {},
   "source": [
    "## 0 Global settings"
   ]
  },
  {
   "cell_type": "code",
   "execution_count": 22,
   "metadata": {},
   "outputs": [
    {
     "name": "stdout",
     "output_type": "stream",
     "text": [
      "System version: 3.6.0 | packaged by conda-forge | (default, Feb  9 2017, 14:36:55) \n",
      "[GCC 4.8.2 20140120 (Red Hat 4.8.2-15)]\n",
      "Pandas version: 0.23.4\n",
      "PySpark version: 2.3.1\n"
     ]
    }
   ],
   "source": [
    "import sys\n",
    "sys.path.append(\"../../\")\n",
    "import os\n",
    "import shutil\n",
    "import tempfile\n",
    "import pandas as pd\n",
    "from matplotlib import pyplot as plt\n",
    "import numpy as np\n",
    "import seaborn as sns\n",
    "import papermill as pm\n",
    "import pyspark\n",
    "\n",
    "print(\"System version: {}\".format(sys.version))\n",
    "print(\"Pandas version: {}\".format(pd.__version__))\n",
    "print(\"PySpark version: {}\".format(pyspark.__version__))"
   ]
  },
  {
   "cell_type": "markdown",
   "metadata": {},
   "source": [
    "A temporary directory is created to preserve the output notebook."
   ]
  },
  {
   "cell_type": "code",
   "execution_count": 23,
   "metadata": {},
   "outputs": [],
   "source": [
    "# Put temp results in a temp folder.\n",
    "temp_path = tempfile.mkdtemp()\n",
    "output_path = os.path.join(temp_path, 'output.ipynb')"
   ]
  },
  {
   "cell_type": "code",
   "execution_count": 24,
   "metadata": {},
   "outputs": [],
   "source": [
    "# Global set-up parameters used to run the notebooks.\n",
    "k = 10\n",
    "\n",
    "# data_sizes = ['100k', '1m', '10m', '20m']\n",
    "# algorithms = ['als', 'sar', 'svd']\n",
    "\n",
    "data_sizes = ['20m']\n",
    "algorithms = ['sar']\n",
    "\n",
    "notebooks = {\n",
    "    'als': '../00_quick_start/als_pyspark_movielens.ipynb',\n",
    "    'sar': '../00_quick_start/sar_single_node_movielens.ipynb',\n",
    "    'svd': '../02_modeling/surprise_svd_deep_dive.ipynb'\n",
    "}"
   ]
  },
  {
   "cell_type": "markdown",
   "metadata": {},
   "source": [
    "## 1 Run notebooks to generate benchmarking results"
   ]
  },
  {
   "cell_type": "code",
   "execution_count": null,
   "metadata": {},
   "outputs": [
    {
     "name": "stderr",
     "output_type": "stream",
     "text": [
      "Input Notebook:  ../00_quick_start/sar_single_node_movielens.ipynb\n",
      "Output Notebook: /tmp/tmpr7yywr4e/output.ipynb\n"
     ]
    },
    {
     "data": {
      "application/vnd.jupyter.widget-view+json": {
       "model_id": "b08dcfd860204a4b986cf93741f5c70d",
       "version_major": 2,
       "version_minor": 0
      },
      "text/plain": [
       "HBox(children=(IntProgress(value=0, max=32), HTML(value='')))"
      ]
     },
     "metadata": {},
     "output_type": "display_data"
    }
   ],
   "source": [
    "# For each data size and each algorithm, a recommender is evaluated. \n",
    "df_results = pd.DataFrame()\n",
    "\n",
    "for data_size in data_sizes:\n",
    "    for algorithm in algorithms:\n",
    "        # Execute the notebook\n",
    "        pm.execute_notebook(\n",
    "            notebooks[algorithm],\n",
    "            output_path,\n",
    "            parameters = dict(TOP_K=k, MOVIELENS_DATA_SIZE=data_size),\n",
    "            kernel_name = \"reco_full\"\n",
    "        )\n",
    "        \n",
    "        # Read records from the notebook.\n",
    "        nb = pm.read_notebook(output_path)\n",
    "        \n",
    "        # Arrange results and save them into dataframe.\n",
    "        df_eval = nb.dataframe.transpose()\n",
    "        df_eval = df_eval.rename(columns=df_eval.iloc[0]).drop(['name', 'type', 'filename'])\n",
    "        df_eval.columns = [x.lower() for x in list(df_eval.columns)]\n",
    "        \n",
    "        if algorithm in [\"als\", \"svd\"]:\n",
    "            df_result = pd.DataFrame(\n",
    "                {\n",
    "                    \"Data\": data_size,\n",
    "                    \"Algo\": algorithm,\n",
    "                    \"K\": k,\n",
    "                    \"MAP\": df_eval['map'].item(),\n",
    "                    \"nDCG@k\": df_eval['ndcg'].item(),\n",
    "                    \"Precision@k\": df_eval['precision'].item(),\n",
    "                    \"Recall@k\": df_eval['recall'].item(),\n",
    "                    \"RMSE\": df_eval['rmse'].item(),\n",
    "                    \"MAE\": df_eval['mae'].item(),\n",
    "                    \"R2\": df_eval['rsquared'].item(),\n",
    "                    \"Explained Variance\": df_eval['exp_var'].item()\n",
    "                }, \n",
    "                index=[0]\n",
    "            )\n",
    "        elif algorithm == \"sar\":\n",
    "            df_result = pd.DataFrame(\n",
    "                {\n",
    "                    \"Data\": data_size,\n",
    "                    \"Algo\": algorithm,\n",
    "                    \"K\": k,\n",
    "                    \"MAP\": df_eval['map'].item(),\n",
    "                    \"nDCG@k\": df_eval['ndcg'].item(),\n",
    "                    \"Precision@k\": df_eval['precision'].item(),\n",
    "                    \"Recall@k\": df_eval['recall'].item(),\n",
    "                    \"RMSE\": np.nan,\n",
    "                    \"MAE\": np.nan,\n",
    "                    \"R2\": np.nan,\n",
    "                    \"Explained Variance\": np.nan\n",
    "                }, \n",
    "                index=[0]\n",
    "            )\n",
    "        else:\n",
    "            raise ValueError(\"{} is not a recognized algorithm\".format(algorithm))\n",
    "        df_results = df_results.append(df_result, ignore_index=True)\n",
    "        \n",
    "df_results"
   ]
  },
  {
   "cell_type": "markdown",
   "metadata": {},
   "source": [
    "The temporary directory is removed after the finish of the all the run."
   ]
  },
  {
   "cell_type": "code",
   "execution_count": null,
   "metadata": {},
   "outputs": [],
   "source": [
    "try:\n",
    "    shutil.rmtree(temp_path)  # delete directory\n",
    "except OSError as exc:\n",
    "    if exc.errno != errno.ENOENT:  # ENOENT - no such file or directory\n",
    "        raise  # re-raise exception"
   ]
  }
 ],
 "metadata": {
  "kernelspec": {
   "display_name": "Python (reco_full)",
   "language": "python",
   "name": "reco_full"
  },
  "language_info": {
   "codemirror_mode": {
    "name": "ipython",
    "version": 3
   },
   "file_extension": ".py",
   "mimetype": "text/x-python",
   "name": "python",
   "nbconvert_exporter": "python",
   "pygments_lexer": "ipython3",
   "version": "3.6.0"
  }
 },
 "nbformat": 4,
 "nbformat_minor": 2
}
